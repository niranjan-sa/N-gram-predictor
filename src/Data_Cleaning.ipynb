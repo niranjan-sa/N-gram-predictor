{
  "nbformat": 4,
  "nbformat_minor": 0,
  "metadata": {
    "colab": {
      "name": "Data Cleaning.ipynb",
      "provenance": [],
      "collapsed_sections": [],
      "machine_shape": "hm"
    },
    "kernelspec": {
      "name": "python3",
      "display_name": "Python 3"
    },
    "accelerator": "TPU"
  },
  "cells": [
    {
      "cell_type": "code",
      "metadata": {
        "id": "RVIbJig9TnB5",
        "colab_type": "code",
        "outputId": "183b3b5f-5894-422a-f0da-bc5a6ca2c109",
        "colab": {
          "base_uri": "https://localhost:8080/",
          "height": 126
        }
      },
      "source": [
        "from google.colab import drive\n",
        "drive.mount('/gdrive')"
      ],
      "execution_count": 0,
      "outputs": [
        {
          "output_type": "stream",
          "text": [
            "Go to this URL in a browser: https://accounts.google.com/o/oauth2/auth?client_id=947318989803-6bn6qk8qdgf4n4g3pfee6491hc0brc4i.apps.googleusercontent.com&redirect_uri=urn%3aietf%3awg%3aoauth%3a2.0%3aoob&response_type=code&scope=email%20https%3a%2f%2fwww.googleapis.com%2fauth%2fdocs.test%20https%3a%2f%2fwww.googleapis.com%2fauth%2fdrive%20https%3a%2f%2fwww.googleapis.com%2fauth%2fdrive.photos.readonly%20https%3a%2f%2fwww.googleapis.com%2fauth%2fpeopleapi.readonly\n",
            "\n",
            "Enter your authorization code:\n",
            "··········\n",
            "Mounted at /gdrive\n"
          ],
          "name": "stdout"
        }
      ]
    },
    {
      "cell_type": "code",
      "metadata": {
        "id": "C2vPCUXlTRfa",
        "colab_type": "code",
        "outputId": "7d18f12d-9320-4c42-b49f-58c455265ffb",
        "colab": {
          "base_uri": "https://localhost:8080/",
          "height": 35
        }
      },
      "source": [
        "import os\n",
        "print(os.listdir('../gdrive/My Drive/NLP/Final Project/'))\n",
        "os.chdir('../gdrive/My Drive/NLP/Final Project/')"
      ],
      "execution_count": 0,
      "outputs": [
        {
          "output_type": "stream",
          "text": [
            "['data', 'NLP Projects.gdoc', 'Data Cleaning.ipynb']\n"
          ],
          "name": "stdout"
        }
      ]
    },
    {
      "cell_type": "code",
      "metadata": {
        "id": "G3ZUTlfGZ74i",
        "colab_type": "code",
        "colab": {}
      },
      "source": [
        "blogs = open('data/en_US.blogs.txt', 'rt')\n",
        "text = blogs.read()\n",
        "blogs.close()"
      ],
      "execution_count": 0,
      "outputs": []
    },
    {
      "cell_type": "code",
      "metadata": {
        "id": "-hccTKW8b3Ak",
        "colab_type": "code",
        "outputId": "5176aeb0-f6bb-4cf0-b3d3-d2429d7c6fc8",
        "colab": {
          "base_uri": "https://localhost:8080/",
          "height": 35
        }
      },
      "source": [
        "corpus = text\n",
        "print(len(corpus))"
      ],
      "execution_count": 0,
      "outputs": [
        {
          "output_type": "stream",
          "text": [
            "207723793\n"
          ],
          "name": "stdout"
        }
      ]
    },
    {
      "cell_type": "code",
      "metadata": {
        "id": "ddvl0Fffe0Yw",
        "colab_type": "code",
        "outputId": "d0390eb6-1e76-4b6f-8ebe-bf42c6e377af",
        "colab": {
          "base_uri": "https://localhost:8080/",
          "height": 35
        }
      },
      "source": [
        "# We will remove double quotes, !, ? $, #, etc\n",
        "# specify to translate chars \n",
        "str1 = \"\"\n",
        "# specify to replace with \n",
        "str2 = \"\"\n",
        "# delete chars \n",
        "str3 = \"\\\"!?#$%^&*+\"\n",
        "\n",
        "trg = corpus\n",
        "table = trg.maketrans(str1, str2, str3)\n",
        "corpus = trg.translate(table)\n",
        "\n",
        "print(len(corpus))"
      ],
      "execution_count": 0,
      "outputs": [
        {
          "output_type": "stream",
          "text": [
            "207180408\n"
          ],
          "name": "stdout"
        }
      ]
    },
    {
      "cell_type": "code",
      "metadata": {
        "id": "lnzN1dsSTSIG",
        "colab_type": "code",
        "outputId": "62c0c933-f54c-411a-f986-831e4f7f9e9e",
        "colab": {
          "base_uri": "https://localhost:8080/",
          "height": 35
        }
      },
      "source": [
        "words = corpus.split()\n",
        "print (len(words))"
      ],
      "execution_count": 0,
      "outputs": [
        {
          "output_type": "stream",
          "text": [
            "37310353\n"
          ],
          "name": "stdout"
        }
      ]
    },
    {
      "cell_type": "code",
      "metadata": {
        "id": "gN349IzmbyGO",
        "colab_type": "code",
        "colab": {}
      },
      "source": [
        "# convert to lower case\n",
        "words = [word.lower() for word in words]"
      ],
      "execution_count": 0,
      "outputs": []
    },
    {
      "cell_type": "code",
      "metadata": {
        "id": "ojeuhSILeh01",
        "colab_type": "code",
        "outputId": "0cff9d3d-aabe-4c62-c932-05b06f59bc60",
        "colab": {
          "base_uri": "https://localhost:8080/",
          "height": 35
        }
      },
      "source": [
        "# The data set is cleaned. So, let's try to build a frequency table for n-grams\n",
        "print(len(set(words)))\n",
        "# Vocab size\n",
        "import nltk\n",
        "freq_dist = nltk.FreqDist(words)"
      ],
      "execution_count": 0,
      "outputs": [
        {
          "output_type": "stream",
          "text": [
            "861073\n"
          ],
          "name": "stdout"
        }
      ]
    },
    {
      "cell_type": "code",
      "metadata": {
        "id": "d5zYtntogNRV",
        "colab_type": "code",
        "outputId": "5fdc66db-452c-47e7-8818-7bc3dca0d677",
        "colab": {
          "base_uri": "https://localhost:8080/",
          "height": 195
        }
      },
      "source": [
        "freq_dist.most_common(10) # the most common words in our corpus."
      ],
      "execution_count": 0,
      "outputs": [
        {
          "output_type": "execute_result",
          "data": {
            "text/plain": [
              "[('the', 1842860),\n",
              " ('and', 1070028),\n",
              " ('to', 1057986),\n",
              " ('a', 890187),\n",
              " ('of', 871259),\n",
              " ('i', 754706),\n",
              " ('in', 582588),\n",
              " ('that', 440011),\n",
              " ('is', 419032),\n",
              " ('for', 357301)]"
            ]
          },
          "metadata": {
            "tags": []
          },
          "execution_count": 9
        }
      ]
    },
    {
      "cell_type": "code",
      "metadata": {
        "id": "4Pa8rZ-miPw2",
        "colab_type": "code",
        "colab": {}
      },
      "source": [
        "from nltk.util import ngrams\n",
        "\n",
        "esBigrams = ngrams(words, 2)"
      ],
      "execution_count": 0,
      "outputs": []
    },
    {
      "cell_type": "code",
      "metadata": {
        "id": "D98AsZcisc3t",
        "colab_type": "code",
        "colab": {}
      },
      "source": [
        "import collections\n",
        "esBigramFreq = collections.Counter(esBigrams)"
      ],
      "execution_count": 0,
      "outputs": []
    },
    {
      "cell_type": "code",
      "metadata": {
        "id": "rMrRlnWeslb8",
        "colab_type": "code",
        "outputId": "8de7dbf6-bfbd-4b14-8d83-b9a2a96a4f97",
        "colab": {
          "base_uri": "https://localhost:8080/",
          "height": 195
        }
      },
      "source": [
        "esBigramFreq.most_common(10)"
      ],
      "execution_count": 0,
      "outputs": [
        {
          "output_type": "execute_result",
          "data": {
            "text/plain": [
              "[(('of', 'the'), 186419),\n",
              " (('in', 'the'), 151834),\n",
              " (('to', 'the'), 85458),\n",
              " (('on', 'the'), 74535),\n",
              " (('to', 'be'), 65639),\n",
              " (('and', 'the'), 57707),\n",
              " (('for', 'the'), 57450),\n",
              " (('i', 'was'), 48292),\n",
              " (('and', 'i'), 47598),\n",
              " (('at', 'the'), 47021)]"
            ]
          },
          "metadata": {
            "tags": []
          },
          "execution_count": 12
        }
      ]
    },
    {
      "cell_type": "code",
      "metadata": {
        "id": "WBKsbjfyuUQ_",
        "colab_type": "code",
        "colab": {}
      },
      "source": [
        "esTrigrams = ngrams(words, 3)\n",
        "esTrigramFreq = collections.Counter(esTrigrams)"
      ],
      "execution_count": 0,
      "outputs": []
    },
    {
      "cell_type": "code",
      "metadata": {
        "id": "L_-hIXdvuema",
        "colab_type": "code",
        "colab": {}
      },
      "source": [
        "esTrigramFreq.most_common(10)"
      ],
      "execution_count": 0,
      "outputs": []
    },
    {
      "cell_type": "code",
      "metadata": {
        "id": "pfOjPxzmulOh",
        "colab_type": "code",
        "outputId": "a96b8498-3bc3-4032-ed7c-2a9f6b69abff",
        "colab": {
          "base_uri": "https://localhost:8080/",
          "height": 195
        }
      },
      "source": [
        "esQuadgrams = ngrams(words, 4)\n",
        "esQuadgramFreq = collections.Counter(esQuadgrams)\n",
        "esQuadgramFreq.most_common(10)"
      ],
      "execution_count": 0,
      "outputs": [
        {
          "output_type": "execute_result",
          "data": {
            "text/plain": [
              "[(('the', 'end', 'of', 'the'), 3327),\n",
              " (('the', 'rest', 'of', 'the'), 3040),\n",
              " (('at', 'the', 'end', 'of'), 2891),\n",
              " (('when', 'it', 'comes', 'to'), 1998),\n",
              " (('to', 'be', 'able', 'to'), 1878),\n",
              " (('one', 'of', 'the', 'most'), 1855),\n",
              " (('in', 'the', 'middle', 'of'), 1805),\n",
              " (('is', 'one', 'of', 'the'), 1773),\n",
              " (('i', 'am', 'going', 'to'), 1479),\n",
              " (('if', 'you', 'want', 'to'), 1431)]"
            ]
          },
          "metadata": {
            "tags": []
          },
          "execution_count": 15
        }
      ]
    },
    {
      "cell_type": "code",
      "metadata": {
        "id": "h_R-koAHS-Re",
        "colab_type": "code",
        "colab": {}
      },
      "source": [
        "# Dumbest and most basic model using a simple Markov Chain\n",
        "# Principal Random walk\n",
        "\n",
        "def build_chain(text, chain = {}):\n",
        "    words = text\n",
        "    index = 1\n",
        "    for word in words[index:]:\n",
        "        key = words[index - 1]\n",
        "        if key in chain:\n",
        "            chain[key].append(word)\n",
        "        else:\n",
        "            chain[key] = [word]\n",
        "        index += 1\n",
        "    return chain"
      ],
      "execution_count": 0,
      "outputs": []
    },
    {
      "cell_type": "code",
      "metadata": {
        "id": "jSb6LUVLu1oH",
        "colab_type": "code",
        "colab": {}
      },
      "source": [
        "chain = build_chain(words)"
      ],
      "execution_count": 0,
      "outputs": []
    },
    {
      "cell_type": "code",
      "metadata": {
        "id": "qBc59XaLS857",
        "colab_type": "code",
        "outputId": "64f64a34-84de-4290-94fd-f7a71ae746e5",
        "colab": {
          "base_uri": "https://localhost:8080/",
          "height": 35
        }
      },
      "source": [
        "import sys\n",
        "print (sys.getsizeof(chain))"
      ],
      "execution_count": 0,
      "outputs": [
        {
          "output_type": "stream",
          "text": [
            "41943144\n"
          ],
          "name": "stdout"
        }
      ]
    },
    {
      "cell_type": "code",
      "metadata": {
        "id": "KF-Od7P-Uuox",
        "colab_type": "code",
        "colab": {}
      },
      "source": [
        "ans = sys.getsizeof(chain)"
      ],
      "execution_count": 0,
      "outputs": []
    },
    {
      "cell_type": "code",
      "metadata": {
        "id": "1SuvCyHIU_1V",
        "colab_type": "code",
        "outputId": "0ab1154c-3978-4671-e1fb-dfb2639cbd0e",
        "colab": {
          "base_uri": "https://localhost:8080/",
          "height": 35
        }
      },
      "source": [
        "ans/(1024*1024)"
      ],
      "execution_count": 0,
      "outputs": [
        {
          "output_type": "execute_result",
          "data": {
            "text/plain": [
              "40.000099182128906"
            ]
          },
          "metadata": {
            "tags": []
          },
          "execution_count": 20
        }
      ]
    },
    {
      "cell_type": "code",
      "metadata": {
        "id": "5wG6hDhCbbvZ",
        "colab_type": "code",
        "colab": {}
      },
      "source": [
        "from random import choice"
      ],
      "execution_count": 0,
      "outputs": []
    },
    {
      "cell_type": "code",
      "metadata": {
        "id": "GdebXaayVBbB",
        "colab_type": "code",
        "colab": {}
      },
      "source": [
        "def generate_message(chain, count = 100):\n",
        "    word1 = choice(list(chain.keys()))\n",
        "    message = word1.capitalize()\n",
        "\n",
        "    while len(message.split(' ')) < count:\n",
        "        word2 = choice(chain[word1])\n",
        "        word1 = word2\n",
        "        message += ' ' + word2\n",
        "    \n",
        "    return message"
      ],
      "execution_count": 0,
      "outputs": []
    },
    {
      "cell_type": "code",
      "metadata": {
        "id": "80_cuehtbXgR",
        "colab_type": "code",
        "outputId": "4fadfc5c-3893-4a41-ba2d-6e7e11d1dba4",
        "colab": {
          "base_uri": "https://localhost:8080/",
          "height": 35
        }
      },
      "source": [
        "print(generate_message(chain, count=1))"
      ],
      "execution_count": 0,
      "outputs": [
        {
          "output_type": "stream",
          "text": [
            "Cook-out\n"
          ],
          "name": "stdout"
        }
      ]
    },
    {
      "cell_type": "code",
      "metadata": {
        "id": "iuw-fIsMb0TO",
        "colab_type": "code",
        "colab": {}
      },
      "source": [
        ""
      ],
      "execution_count": 0,
      "outputs": []
    }
  ]
}